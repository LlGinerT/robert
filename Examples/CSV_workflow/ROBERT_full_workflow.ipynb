{
 "cells": [
  {
   "attachments": {},
   "cell_type": "markdown",
   "metadata": {},
   "source": [
    "#### Running a full ROBERT workflow in Jupyter Notebooks"
   ]
  },
  {
   "cell_type": "code",
   "execution_count": null,
   "metadata": {},
   "outputs": [],
   "source": [
    "command_line = \"python -m robert --ignore \\\"['Name']\\\" --y Target_values --csv_name Robert_example.csv --csv_test Robert_example_test.csv --names Name\"\n",
    "\n",
    "def run_command(cmd):\n",
    "    from subprocess import Popen, PIPE\n",
    "    import shlex\n",
    "\n",
    "    with Popen(shlex.split(cmd), stdout=PIPE, bufsize=1, universal_newlines=True) as p:\n",
    "        for line in p.stdout:\n",
    "            print(line, end='')\n",
    "        exit_code = p.poll()\n",
    "    return exit_code\n",
    "\n",
    "_ = run_command(command_line)"
   ]
  }
 ],
 "metadata": {
  "kernelspec": {
   "display_name": "Python 3.9.12 ('cheminf')",
   "language": "python",
   "name": "python3"
  },
  "language_info": {
   "codemirror_mode": {
    "name": "ipython",
    "version": 3
   },
   "file_extension": ".py",
   "mimetype": "text/x-python",
   "name": "python",
   "nbconvert_exporter": "python",
   "pygments_lexer": "ipython3",
   "version": "3.9.16"
  },
  "vscode": {
   "interpreter": {
    "hash": "6fd74c72106078714e0fce224080d73d80ec6931ebd33b284a64c665ffc716e5"
   }
  }
 },
 "nbformat": 4,
 "nbformat_minor": 5
}
